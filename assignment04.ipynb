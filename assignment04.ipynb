{
 "cells": [
  {
   "cell_type": "markdown",
   "id": "615ba8fb-1178-4fb0-ba83-71a4f77e9451",
   "metadata": {},
   "source": [
    "1. What is multiprocessing in python? Why is it useful?"
   ]
  },
  {
   "cell_type": "raw",
   "id": "9fb5db1f-1a8f-4695-84df-d515e9824518",
   "metadata": {},
   "source": [
    "Multiprocessing in Python refers to the capability of a system to support the execution of multiple processes in parallel. In the context of Python, the multiprocessing module provides a way to create and manage parallel processes. Each process has its own memory space, allowing for true parallel execution of tasks.\n",
    "\n",
    "\n",
    "Here are some key points about multiprocessing in Python and its usefulness:\n",
    "\n",
    "Parallelism: Multiprocessing allows you to execute multiple tasks concurrently, taking advantage of multiple CPU cores. This is particularly beneficial for CPU-bound tasks that can be divided into smaller independent subtasks.\n",
    "\n",
    "Improved Performance: By distributing tasks among multiple processes, you can achieve better performance and reduce the overall execution time, especially on systems with multiple CPU cores.\n",
    "\n",
    "Isolation: Each process in multiprocessing runs independently with its own memory space. This provides isolation between processes, preventing one process from affecting the memory or state of another. This is in contrast to multithreading, where threads share the same memory space and require synchronization mechanisms.\n",
    "\n",
    "Avoiding Global Interpreter Lock (GIL): In Python, the Global Interpreter Lock (GIL) can limit the execution of multiple threads in parallel, especially in CPU-bound tasks. Multiprocessing allows bypassing the GIL by running processes in separate interpreter instances, enabling better parallelism.\n",
    "\n",
    "Fault Tolerance: If one process encounters an issue (such as a crash or exception), it typically does not affect other processes. This improves the overall robustness and fault tolerance of the application."
   ]
  },
  {
   "cell_type": "markdown",
   "id": "8538f80d-0391-4df6-bfbd-d9ba4a4d161d",
   "metadata": {},
   "source": [
    "2. What are the differences between multiprocessing and multithreading?"
   ]
  },
  {
   "cell_type": "raw",
   "id": "fbded767-9ea3-46d6-9609-4a38745f46ae",
   "metadata": {},
   "source": [
    "Multiprocessing and multithreading are both approaches to achieving concurrent execution in a program, but they differ in how they handle concurrency and parallelism. \n",
    "\n",
    "Process vs. Thread:\n",
    "\n",
    "Multiprocessing: In multiprocessing, separate processes are created, each with its own memory space. Processes run independently and do not share memory, which requires communication mechanisms like inter-process communication (IPC) for data exchange.\n",
    "Multithreading: In multithreading, threads are lightweight sub-processes that share the same memory space. Threads within a process can communicate directly through shared data structures.\n",
    "Isolation:\n",
    "\n",
    "Multiprocessing: Processes are isolated from each other, meaning that the memory space of one process is not accessible by another process. This provides a high degree of isolation, but communication between processes may require additional mechanisms.\n",
    "Multithreading: Threads within a process share the same memory space, which simplifies communication but also requires careful synchronization to avoid data corruption due to simultaneous access.\n",
    "GIL (Global Interpreter Lock):\n",
    "\n",
    "Multiprocessing: Each process has its own interpreter and runs independently, so the Global Interpreter Lock (GIL) does not limit the execution of multiple processes in parallel.\n",
    "Multithreading: The GIL limits the execution of multiple threads in parallel in CPython (the default Python interpreter). This means that only one thread can execute Python bytecode at a time, impacting the parallelism of CPU-bound tasks.\n",
    "Concurrency vs. Parallelism:\n",
    "\n",
    "Multiprocessing: Provides true parallelism as processes run concurrently on multiple CPU cores. Well-suited for CPU-bound tasks.\n",
    "Multithreading: Provides concurrency, as threads share the same CPU core and take turns executing. Better suited for I/O-bound tasks where threads can wait for I/O operations without blocking the entire process.\n",
    "Overhead:\n",
    "\n",
    "Multiprocessing: Creating processes has more overhead in terms of memory and resources compared to threads. Communication between processes can also incur overhead.\n",
    "Multithreading: Threads have lower overhead compared to processes, but the need for synchronization mechanisms can introduce complexity and potential performance bottlenecks.\n",
    "Fault Tolerance:\n",
    "\n",
    "Multiprocessing: If one process crashes, it usually does not affect other processes, providing better fault tolerance.\n",
    "Multithreading: A crash in one thread can potentially impact the entire process, making fault tolerance more challenging."
   ]
  },
  {
   "cell_type": "markdown",
   "id": "afc2ea94-ce3b-40bf-b9fc-7a41c71f12a6",
   "metadata": {},
   "source": [
    "3. Write a python code to create a process using the multiprocessing module. "
   ]
  },
  {
   "cell_type": "code",
   "execution_count": 1,
   "id": "4d3e79bc-b8a7-4a05-91f8-4a20264ff0b9",
   "metadata": {},
   "outputs": [
    {
     "name": "stdout",
     "output_type": "stream",
     "text": [
      "25\n",
      "64\n"
     ]
    }
   ],
   "source": [
    "from concurrent.futures import ProcessPoolExecutor\n",
    "\n",
    "def square(x):\n",
    "    return x * x\n",
    "\n",
    "# Create a process pool with 2 processes\n",
    "with ProcessPoolExecutor(max_workers=2) as executor:\n",
    "    # Submit tasks to the pool\n",
    "    future1 = executor.submit(square, 5)\n",
    "    future2 = executor.submit(square, 8)\n",
    "\n",
    "    # Get the results when the tasks are completed\n",
    "    result1 = future1.result()\n",
    "    result2 = future2.result()\n",
    "\n",
    "# Print the results\n",
    "print(result1)\n",
    "print(result2)\n"
   ]
  },
  {
   "cell_type": "markdown",
   "id": "ca0f3cee-a2af-41ed-9463-051f431775f7",
   "metadata": {},
   "source": [
    "4. What is a multiprocessing pool in python? Why is it used?"
   ]
  },
  {
   "cell_type": "raw",
   "id": "be1d0cc6-ea12-4f10-85f6-6e70b1d14dc6",
   "metadata": {},
   "source": [
    "A multiprocessing pool in Python, often provided by the multiprocessing module, is a mechanism for parallelizing the execution of a function across multiple input values. The pool distributes the workload among multiple processes, allowing for concurrent and potentially faster execution, especially on multi-core systems.\n",
    "\n",
    "A multiprocessing pool in Python, often provided by the multiprocessing module, is a mechanism for parallelizing the execution of a function across multiple input values. The pool distributes the workload among multiple processes, allowing for concurrent and potentially faster execution, especially on multi-core systems.\n",
    "\n",
    "The main components of a multiprocessing pool include:\n",
    "\n",
    "Pool: The pool itself is an object that manages a pool of worker processes. It provides methods to submit tasks for parallel execution and retrieve their results.\n",
    "\n",
    "Worker Processes: These are separate processes spawned by the pool to perform the parallelized tasks. Each worker process runs independently and executes the specified function with different input values.\n",
    "\n",
    "The primary use cases and benefits of using a multiprocessing pool in Python are:\n",
    "\n",
    "Parallelism: The pool allows you to execute a function concurrently on different input values, leveraging the capabilities of multiple CPU cores. This is particularly useful for CPU-bound tasks that can be split into independent subtasks.\n",
    "\n",
    "Performance Improvement: By parallelizing tasks, a multiprocessing pool can lead to improved performance and reduced execution time, especially on systems with multiple CPU cores."
   ]
  },
  {
   "cell_type": "markdown",
   "id": "6356f16e-e0dc-4ce7-9d0e-a09743b63459",
   "metadata": {},
   "source": [
    "5. How can we create a pool of worker processes in python using the multiprocessing module?"
   ]
  },
  {
   "cell_type": "code",
   "execution_count": 2,
   "id": "9cb1030c-44ba-4d70-ad7d-7d9a12e307a5",
   "metadata": {},
   "outputs": [
    {
     "name": "stdout",
     "output_type": "stream",
     "text": [
      "[1, 4, 9, 16, 25]\n"
     ]
    }
   ],
   "source": [
    "from multiprocessing import Pool\n",
    "\n",
    "def square(x):\n",
    "    return x * x\n",
    "\n",
    "# Create a pool with 4 processes\n",
    "with Pool(processes=4) as pool:\n",
    "    # Use the map method to apply the function to a list of inputs\n",
    "    result = pool.map(square, [1, 2, 3, 4, 5])\n",
    "\n",
    "# Print the result\n",
    "print(result)\n"
   ]
  },
  {
   "cell_type": "markdown",
   "id": "2ab403bd-f299-4c34-8ecd-28f5559b2673",
   "metadata": {},
   "source": [
    "6. Write a python program to create 4 processes, each process should print a different number using the\n",
    "multiprocessing module in python."
   ]
  },
  {
   "cell_type": "code",
   "execution_count": 3,
   "id": "11b26625-ed97-4cce-b43a-2e2a98a86463",
   "metadata": {},
   "outputs": [
    {
     "name": "stdout",
     "output_type": "stream",
     "text": [
      "Process 1: This is number 1Process 2: This is number 2Process 4: This is number 4Process 3: This is number 3\n",
      "\n",
      "\n",
      "\n"
     ]
    }
   ],
   "source": [
    "from concurrent.futures import ProcessPoolExecutor\n",
    "\n",
    "def print_number(number):\n",
    "    print(f\"Process {number}: This is number {number}\")\n",
    "\n",
    "if __name__ == \"__main__\":\n",
    "    with ProcessPoolExecutor(max_workers=4) as executor:\n",
    "        # Submit tasks to the process pool\n",
    "        futures = [executor.submit(print_number, i) for i in range(1, 5)]\n",
    "\n",
    "        # Wait for the tasks to complete\n",
    "        for future in futures:\n",
    "            future.result()\n"
   ]
  },
  {
   "cell_type": "code",
   "execution_count": null,
   "id": "3e31d984-fe07-4942-9ae0-c1ed8342ad2c",
   "metadata": {},
   "outputs": [],
   "source": []
  }
 ],
 "metadata": {
  "kernelspec": {
   "display_name": "Python 3 (ipykernel)",
   "language": "python",
   "name": "python3"
  },
  "language_info": {
   "codemirror_mode": {
    "name": "ipython",
    "version": 3
   },
   "file_extension": ".py",
   "mimetype": "text/x-python",
   "name": "python",
   "nbconvert_exporter": "python",
   "pygments_lexer": "ipython3",
   "version": "3.10.8"
  }
 },
 "nbformat": 4,
 "nbformat_minor": 5
}
